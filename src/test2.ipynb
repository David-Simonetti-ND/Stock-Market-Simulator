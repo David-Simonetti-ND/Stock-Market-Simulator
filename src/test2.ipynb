{
 "cells": [
  {
   "cell_type": "code",
   "execution_count": 6,
   "metadata": {},
   "outputs": [],
   "source": [
    "import pandas as pd\n",
    "from StockMarketLib import VALID_TICKERS"
   ]
  },
  {
   "cell_type": "code",
   "execution_count": 21,
   "metadata": {},
   "outputs": [],
   "source": [
    "data = pd.read_pickle('../data/TSLA.pd')"
   ]
  },
  {
   "cell_type": "code",
   "execution_count": 23,
   "metadata": {},
   "outputs": [
    {
     "data": {
      "text/html": [
       "<div>\n",
       "<style scoped>\n",
       "    .dataframe tbody tr th:only-of-type {\n",
       "        vertical-align: middle;\n",
       "    }\n",
       "\n",
       "    .dataframe tbody tr th {\n",
       "        vertical-align: top;\n",
       "    }\n",
       "\n",
       "    .dataframe thead th {\n",
       "        text-align: right;\n",
       "    }\n",
       "</style>\n",
       "<table border=\"1\" class=\"dataframe\">\n",
       "  <thead>\n",
       "    <tr style=\"text-align: right;\">\n",
       "      <th></th>\n",
       "      <th></th>\n",
       "      <th>open</th>\n",
       "      <th>high</th>\n",
       "      <th>low</th>\n",
       "      <th>close</th>\n",
       "      <th>volume</th>\n",
       "      <th>trade_count</th>\n",
       "      <th>vwap</th>\n",
       "    </tr>\n",
       "    <tr>\n",
       "      <th>symbol</th>\n",
       "      <th>timestamp</th>\n",
       "      <th></th>\n",
       "      <th></th>\n",
       "      <th></th>\n",
       "      <th></th>\n",
       "      <th></th>\n",
       "      <th></th>\n",
       "      <th></th>\n",
       "    </tr>\n",
       "  </thead>\n",
       "  <tbody>\n",
       "    <tr>\n",
       "      <th rowspan=\"11\" valign=\"top\">TSLA</th>\n",
       "      <th>2023-03-01 00:00:00+00:00</th>\n",
       "      <td>205.36</td>\n",
       "      <td>205.38</td>\n",
       "      <td>205.32</td>\n",
       "      <td>205.34</td>\n",
       "      <td>4271.0</td>\n",
       "      <td>69.0</td>\n",
       "      <td>205.342367</td>\n",
       "    </tr>\n",
       "    <tr>\n",
       "      <th>2023-03-01 00:01:00+00:00</th>\n",
       "      <td>205.32</td>\n",
       "      <td>205.34</td>\n",
       "      <td>205.31</td>\n",
       "      <td>205.31</td>\n",
       "      <td>3813.0</td>\n",
       "      <td>51.0</td>\n",
       "      <td>205.315080</td>\n",
       "    </tr>\n",
       "    <tr>\n",
       "      <th>2023-03-01 00:02:00+00:00</th>\n",
       "      <td>205.31</td>\n",
       "      <td>205.33</td>\n",
       "      <td>205.25</td>\n",
       "      <td>205.33</td>\n",
       "      <td>6949.0</td>\n",
       "      <td>108.0</td>\n",
       "      <td>205.294270</td>\n",
       "    </tr>\n",
       "    <tr>\n",
       "      <th>2023-03-01 00:03:00+00:00</th>\n",
       "      <td>205.28</td>\n",
       "      <td>205.28</td>\n",
       "      <td>205.26</td>\n",
       "      <td>205.26</td>\n",
       "      <td>1603.0</td>\n",
       "      <td>73.0</td>\n",
       "      <td>205.266163</td>\n",
       "    </tr>\n",
       "    <tr>\n",
       "      <th>2023-03-01 00:04:00+00:00</th>\n",
       "      <td>205.26</td>\n",
       "      <td>205.26</td>\n",
       "      <td>205.22</td>\n",
       "      <td>205.23</td>\n",
       "      <td>4804.0</td>\n",
       "      <td>121.0</td>\n",
       "      <td>205.240391</td>\n",
       "    </tr>\n",
       "    <tr>\n",
       "      <th>...</th>\n",
       "      <td>...</td>\n",
       "      <td>...</td>\n",
       "      <td>...</td>\n",
       "      <td>...</td>\n",
       "      <td>...</td>\n",
       "      <td>...</td>\n",
       "      <td>...</td>\n",
       "    </tr>\n",
       "    <tr>\n",
       "      <th>2023-03-31 23:55:00+00:00</th>\n",
       "      <td>207.93</td>\n",
       "      <td>207.94</td>\n",
       "      <td>207.90</td>\n",
       "      <td>207.94</td>\n",
       "      <td>12372.0</td>\n",
       "      <td>149.0</td>\n",
       "      <td>207.930237</td>\n",
       "    </tr>\n",
       "    <tr>\n",
       "      <th>2023-03-31 23:56:00+00:00</th>\n",
       "      <td>207.93</td>\n",
       "      <td>207.95</td>\n",
       "      <td>207.91</td>\n",
       "      <td>207.94</td>\n",
       "      <td>11663.0</td>\n",
       "      <td>117.0</td>\n",
       "      <td>207.935623</td>\n",
       "    </tr>\n",
       "    <tr>\n",
       "      <th>2023-03-31 23:57:00+00:00</th>\n",
       "      <td>207.92</td>\n",
       "      <td>207.94</td>\n",
       "      <td>207.87</td>\n",
       "      <td>207.88</td>\n",
       "      <td>16256.0</td>\n",
       "      <td>264.0</td>\n",
       "      <td>207.905747</td>\n",
       "    </tr>\n",
       "    <tr>\n",
       "      <th>2023-03-31 23:58:00+00:00</th>\n",
       "      <td>207.86</td>\n",
       "      <td>207.87</td>\n",
       "      <td>207.80</td>\n",
       "      <td>207.80</td>\n",
       "      <td>17826.0</td>\n",
       "      <td>199.0</td>\n",
       "      <td>207.837646</td>\n",
       "    </tr>\n",
       "    <tr>\n",
       "      <th>2023-03-31 23:59:00+00:00</th>\n",
       "      <td>207.81</td>\n",
       "      <td>207.81</td>\n",
       "      <td>207.62</td>\n",
       "      <td>207.65</td>\n",
       "      <td>24705.0</td>\n",
       "      <td>325.0</td>\n",
       "      <td>207.693957</td>\n",
       "    </tr>\n",
       "  </tbody>\n",
       "</table>\n",
       "<p>21556 rows × 7 columns</p>\n",
       "</div>"
      ],
      "text/plain": [
       "                                    open    high     low   close   volume  \\\n",
       "symbol timestamp                                                            \n",
       "TSLA   2023-03-01 00:00:00+00:00  205.36  205.38  205.32  205.34   4271.0   \n",
       "       2023-03-01 00:01:00+00:00  205.32  205.34  205.31  205.31   3813.0   \n",
       "       2023-03-01 00:02:00+00:00  205.31  205.33  205.25  205.33   6949.0   \n",
       "       2023-03-01 00:03:00+00:00  205.28  205.28  205.26  205.26   1603.0   \n",
       "       2023-03-01 00:04:00+00:00  205.26  205.26  205.22  205.23   4804.0   \n",
       "...                                  ...     ...     ...     ...      ...   \n",
       "       2023-03-31 23:55:00+00:00  207.93  207.94  207.90  207.94  12372.0   \n",
       "       2023-03-31 23:56:00+00:00  207.93  207.95  207.91  207.94  11663.0   \n",
       "       2023-03-31 23:57:00+00:00  207.92  207.94  207.87  207.88  16256.0   \n",
       "       2023-03-31 23:58:00+00:00  207.86  207.87  207.80  207.80  17826.0   \n",
       "       2023-03-31 23:59:00+00:00  207.81  207.81  207.62  207.65  24705.0   \n",
       "\n",
       "                                  trade_count        vwap  \n",
       "symbol timestamp                                           \n",
       "TSLA   2023-03-01 00:00:00+00:00         69.0  205.342367  \n",
       "       2023-03-01 00:01:00+00:00         51.0  205.315080  \n",
       "       2023-03-01 00:02:00+00:00        108.0  205.294270  \n",
       "       2023-03-01 00:03:00+00:00         73.0  205.266163  \n",
       "       2023-03-01 00:04:00+00:00        121.0  205.240391  \n",
       "...                                       ...         ...  \n",
       "       2023-03-31 23:55:00+00:00        149.0  207.930237  \n",
       "       2023-03-31 23:56:00+00:00        117.0  207.935623  \n",
       "       2023-03-31 23:57:00+00:00        264.0  207.905747  \n",
       "       2023-03-31 23:58:00+00:00        199.0  207.837646  \n",
       "       2023-03-31 23:59:00+00:00        325.0  207.693957  \n",
       "\n",
       "[21556 rows x 7 columns]"
      ]
     },
     "execution_count": 23,
     "metadata": {},
     "output_type": "execute_result"
    }
   ],
   "source": [
    "data"
   ]
  },
  {
   "cell_type": "code",
   "execution_count": 24,
   "metadata": {},
   "outputs": [],
   "source": [
    "data = data.ffill()"
   ]
  },
  {
   "cell_type": "code",
   "execution_count": 26,
   "metadata": {},
   "outputs": [],
   "source": [
    "import matplotlib.pyplot as plt\n",
    "import numpy as np"
   ]
  },
  {
   "cell_type": "code",
   "execution_count": 56,
   "metadata": {},
   "outputs": [],
   "source": [
    "def sl(x):\n",
    "    m = (130 - 100)/(x[-1] - x[0]) \n",
    "    return m * x + 100 + np.random.normal(0, np.random.uniform(.1, 1.9) * .1 * 30, len(x))"
   ]
  },
  {
   "cell_type": "code",
   "execution_count": 57,
   "metadata": {},
   "outputs": [
    {
     "data": {
      "text/plain": [
       "[<matplotlib.lines.Line2D at 0x7fed814f2220>]"
      ]
     },
     "execution_count": 57,
     "metadata": {},
     "output_type": "execute_result"
    },
    {
     "data": {
      "image/png": "[encoded data removed]",
      "text/plain": [
       "<Figure size 432x288 with 1 Axes>"
      ]
     },
     "metadata": {
      "needs_background": "light"
     },
     "output_type": "display_data"
    }
   ],
   "source": [
    "x = np.arange(0, 100, 1)\n",
    "plt.plot(x, sl(x) )"
   ]
  },
  {
   "cell_type": "code",
   "execution_count": null,
   "metadata": {},
   "outputs": [],
   "source": []
  }
 ],
 "metadata": {
  "kernelspec": {
   "display_name": "School",
   "language": "python",
   "name": "python3"
  },
  "language_info": {
   "codemirror_mode": {
    "name": "ipython",
    "version": 3
   },
   "file_extension": ".py",
   "mimetype": "text/x-python",
   "name": "python",
   "nbconvert_exporter": "python",
   "pygments_lexer": "ipython3",
   "version": "3.8.13"
  },
  "orig_nbformat": 4
 },
 "nbformat": 4,
 "nbformat_minor": 2
}
